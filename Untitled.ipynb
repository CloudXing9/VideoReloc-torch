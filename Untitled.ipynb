{
 "cells": [
  {
   "cell_type": "code",
   "execution_count": 7,
   "id": "9ddf940d-076b-4a0e-90c3-ca95f1834271",
   "metadata": {},
   "outputs": [],
   "source": [
    "import maskrcnn_benchmark\n",
    "import pickle\n",
    "import torch\n",
    "import torch.nn as nn\n",
    "from torch.nn.parameter import Parameter\n",
    "import math\n",
    "import numpy as np\n",
    "import torch.nn.functional as F"
   ]
  },
  {
   "cell_type": "code",
   "execution_count": 129,
   "id": "73558edb-bd49-44bf-aff7-1a35ae619db9",
   "metadata": {},
   "outputs": [],
   "source": [
    "with open(\"/media/yunhao/BA4201424201053B/features/AS0hqTk_mIs_0_65/AS0hqTk_mIs_0_65_20.pickle\",\"rb\") as f:\n",
    "    s1 = pickle.load(f)"
   ]
  },
  {
   "cell_type": "code",
   "execution_count": 130,
   "id": "b7cd4fc6-9b81-4948-9f2f-e74bf76c81fe",
   "metadata": {},
   "outputs": [],
   "source": [
    "with open(\"/media/yunhao/BA4201424201053B/features/AS0hqTk_mIs_0_65/AS0hqTk_mIs_0_65_22.pickle\",\"rb\") as f:\n",
    "    s2 = pickle.load(f)"
   ]
  },
  {
   "cell_type": "code",
   "execution_count": 128,
   "id": "a9266bb2-acd3-4549-8315-fe8eb56eaba7",
   "metadata": {},
   "outputs": [],
   "source": [
    "f1 = torch.load(\"/media/yunhao/BA4201424201053B/features/AS0hqTk_mIs_0_65/AS0hqTk_mIs_0_65_20.pt\")\n",
    "f2 = torch.load(\"/media/yunhao/BA4201424201053B/features/AS0hqTk_mIs_0_65/AS0hqTk_mIs_0_65_22.pt\")"
   ]
  },
  {
   "cell_type": "code",
   "execution_count": 5,
   "id": "78e423ff-7280-490a-bf18-645ecc642238",
   "metadata": {},
   "outputs": [
    {
     "data": {
      "text/plain": [
       "torch.Size([10, 256, 14, 14])"
      ]
     },
     "execution_count": 5,
     "metadata": {},
     "output_type": "execute_result"
    }
   ],
   "source": [
    "f1.shape"
   ]
  },
  {
   "cell_type": "code",
   "execution_count": 10,
   "id": "00116acb-13a2-47ed-84d9-6ae092fd6f3c",
   "metadata": {},
   "outputs": [
    {
     "data": {
      "text/plain": [
       "tensor([ 80.0353,  79.1771, 167.5810, 175.1172])"
      ]
     },
     "execution_count": 10,
     "metadata": {},
     "output_type": "execute_result"
    }
   ],
   "source": [
    "s1.bbox[0]"
   ]
  },
  {
   "cell_type": "code",
   "execution_count": 11,
   "id": "0a91cf73-b911-4166-94a4-2fdd7cb7f617",
   "metadata": {},
   "outputs": [
    {
     "data": {
      "text/plain": [
       "tensor([ 29.1352,  81.9954,  84.3829, 130.2887])"
      ]
     },
     "execution_count": 11,
     "metadata": {},
     "output_type": "execute_result"
    }
   ],
   "source": [
    "s1.bbox[1]"
   ]
  },
  {
   "cell_type": "code",
   "execution_count": 143,
   "id": "7fbcb273-76db-4347-839c-cc0de9b31093",
   "metadata": {},
   "outputs": [],
   "source": [
    "class GraphConvolution(nn.Module):\n",
    "    def __init__(self, in_features, out_features, bias=True):\n",
    "        super(GraphConvolution, self).__init__()\n",
    "        self.in_features = in_features\n",
    "        self.out_features = out_features\n",
    "        self.weight = Parameter(torch.Tensor(in_features, out_features))\n",
    "        if bias:\n",
    "            self.bias = Parameter(torch.Tensor(out_features))\n",
    "        else:\n",
    "            self.register_parameter('bias', None)\n",
    "        self.reset_parameters()\n",
    "\n",
    "    def reset_parameters(self):\n",
    "        stdv = 1. / math.sqrt(self.weight.size(1))\n",
    "        self.weight.data.uniform_(-stdv, stdv)\n",
    "        if self.bias is not None:\n",
    "            self.bias.data.uniform_(-stdv, stdv)\n",
    "\n",
    "    def forward(self, input, adj):\n",
    "        support = torch.mm(input, self.weight)\n",
    "        output = torch.mm(adj, support)\n",
    "        #output = SparseMM(adj)(support)\n",
    "        if self.bias is not None:\n",
    "            return output + self.bias\n",
    "        else:\n",
    "            return output\n",
    "\n",
    "    def __repr__(self):\n",
    "        return self.__class__.__name__ + ' (' \\\n",
    "               + str(self.in_features) + ' -> ' \\\n",
    "               + str(self.out_features) + ')'"
   ]
  },
  {
   "cell_type": "code",
   "execution_count": 144,
   "id": "ecc5dce1-f241-4df5-aa19-03999c77422e",
   "metadata": {},
   "outputs": [],
   "source": [
    "class GCN(nn.Module):\n",
    "    def __init__(self, nfeat, nhid, nclass, dropout):\n",
    "        super(GCN, self).__init__()\n",
    "\n",
    "        self.gc1 = GraphConvolution(nfeat, nhid)\n",
    "        self.gc2 = GraphConvolution(nhid, nclass)\n",
    "        self.dropout = dropout\n",
    "\n",
    "    def forward(self, x, adj):\n",
    "        x = F.relu(self.gc1(x, adj))\n",
    "        x = F.dropout(x, self.dropout, training=self.training)\n",
    "        x = self.gc2(x, adj)\n",
    "        return x"
   ]
  },
  {
   "cell_type": "code",
   "execution_count": 145,
   "id": "225b6359-fb76-45bd-a5e7-71b63fa331e3",
   "metadata": {},
   "outputs": [],
   "source": [
    "Act_GCN = GCN(50176, 25088, 4096, 0.8)"
   ]
  },
  {
   "cell_type": "code",
   "execution_count": 122,
   "id": "ddfbfb3b-b6ef-406c-9586-b82faa3aabcd",
   "metadata": {},
   "outputs": [
    {
     "data": {
      "text/plain": [
       "50176"
      ]
     },
     "execution_count": 122,
     "metadata": {},
     "output_type": "execute_result"
    }
   ],
   "source": [
    "256*14*14"
   ]
  },
  {
   "cell_type": "code",
   "execution_count": 113,
   "id": "e703c977-0437-4108-b2b9-3b84117e90d8",
   "metadata": {},
   "outputs": [
    {
     "data": {
      "text/plain": [
       "torch.Size([10, 50176])"
      ]
     },
     "execution_count": 113,
     "metadata": {},
     "output_type": "execute_result"
    }
   ],
   "source": [
    "t1.cpu().shape"
   ]
  },
  {
   "cell_type": "code",
   "execution_count": 117,
   "id": "c5844533-d4a2-467e-ade0-bcbe6eba50a7",
   "metadata": {},
   "outputs": [
    {
     "data": {
      "text/plain": [
       "tensor([[ 9.7919e-01, -2.5333e-01,  9.5229e-01,  ...,  4.8242e-01,\n",
       "         -9.2947e-01, -7.5790e-01],\n",
       "        [ 9.7904e-01, -7.2189e-01,  4.2483e-02,  ..., -1.3146e+00,\n",
       "         -2.6970e-01,  1.4766e+00],\n",
       "        [ 1.4858e-01, -3.3959e-01,  1.3981e-01,  ..., -2.7736e-01,\n",
       "         -1.4578e-02, -3.4235e-01],\n",
       "        ...,\n",
       "        [ 1.4606e-01,  1.0202e-01,  9.1973e-02,  ...,  2.1262e-01,\n",
       "         -6.7809e-02,  4.6284e-02],\n",
       "        [-1.2853e-01, -5.8867e-01,  7.6272e-01,  ...,  1.2086e-01,\n",
       "          1.4112e-02,  5.5780e-01],\n",
       "        [-4.2597e-03,  2.8667e-03, -3.8090e-03,  ..., -1.5407e-03,\n",
       "         -4.1921e-03, -9.0637e-04]], grad_fn=<AddBackward0>)"
      ]
     },
     "execution_count": 117,
     "metadata": {},
     "output_type": "execute_result"
    }
   ],
   "source": [
    "Act_GCN(t1.cpu(),q.cpu())"
   ]
  },
  {
   "cell_type": "code",
   "execution_count": null,
   "id": "860653de-63af-4e54-bff4-97777a57505e",
   "metadata": {},
   "outputs": [],
   "source": [
    "a = torch.randn"
   ]
  },
  {
   "cell_type": "code",
   "execution_count": 23,
   "id": "5d4769bd-ea24-46b5-be74-b0b99b31530e",
   "metadata": {},
   "outputs": [],
   "source": [
    "act_ft_mat = torch.randn(2,3)"
   ]
  },
  {
   "cell_type": "code",
   "execution_count": 87,
   "id": "cc6ebe71-2edf-47df-875d-7ada8773cb19",
   "metadata": {},
   "outputs": [],
   "source": [
    "t1 = f1.view(10,-1)"
   ]
  },
  {
   "cell_type": "code",
   "execution_count": 88,
   "id": "99f69dab-47fc-4d42-b923-930e85d5722e",
   "metadata": {},
   "outputs": [],
   "source": [
    "t2 = f2.view(10,-1)"
   ]
  },
  {
   "cell_type": "code",
   "execution_count": 90,
   "id": "ebbfbad9-0765-4756-8fcf-d6abe738b293",
   "metadata": {},
   "outputs": [
    {
     "data": {
      "text/plain": [
       "torch.Size([10, 10])"
      ]
     },
     "execution_count": 90,
     "metadata": {},
     "output_type": "execute_result"
    }
   ],
   "source": [
    "torch.mm(t1, torch.transpose(t2, 0, 1)).shape"
   ]
  },
  {
   "cell_type": "code",
   "execution_count": 44,
   "id": "b6380270-bf7e-43cd-a28b-dd9d7eb588a4",
   "metadata": {},
   "outputs": [],
   "source": [
    "dot_product_mat = torch.mm(act_ft_mat, torch.transpose(act_ft_mat, 0, 1))"
   ]
  },
  {
   "cell_type": "code",
   "execution_count": 20,
   "id": "9e529349-c7d2-4ff6-ac3e-0e3b7dbbb304",
   "metadata": {},
   "outputs": [],
   "source": [
    "s1 = torch.tensor([[0.1,0.4,0.2],[0.3,0.7,0.4]])"
   ]
  },
  {
   "cell_type": "code",
   "execution_count": 17,
   "id": "390654ec-ef8d-4260-a01d-4868bf62de0b",
   "metadata": {},
   "outputs": [],
   "source": [
    "s2 = torch.tensor([[0.2,0.3,0.4],[0.3,0.4,0.5]])"
   ]
  },
  {
   "cell_type": "code",
   "execution_count": 46,
   "id": "3f49013f-8455-4df6-92ed-cf584e31c9fa",
   "metadata": {},
   "outputs": [],
   "source": [
    "dot_product_mat = torch.mm(s1, torch.transpose(s2, 0, 1))"
   ]
  },
  {
   "cell_type": "code",
   "execution_count": 30,
   "id": "6ba6f20b-2439-4b36-869d-bd88fa6d94c1",
   "metadata": {},
   "outputs": [],
   "source": [
    "len_vec1 = torch.unsqueeze(torch.sqrt(torch.sum(s1 * s1, dim=1)), dim=0)\n",
    "len_vec2 = torch.unsqueeze(torch.sqrt(torch.sum(s2 * s2, dim=1)), dim=0)"
   ]
  },
  {
   "cell_type": "code",
   "execution_count": 47,
   "id": "4e881fd1-a9f1-4e55-bb71-a4f956965bcc",
   "metadata": {},
   "outputs": [
    {
     "data": {
      "text/plain": [
       "tensor([[0.2200, 0.2900],\n",
       "        [0.4300, 0.5700]])"
      ]
     },
     "execution_count": 47,
     "metadata": {},
     "output_type": "execute_result"
    }
   ],
   "source": [
    "dot_product_mat"
   ]
  },
  {
   "cell_type": "code",
   "execution_count": 50,
   "id": "10a10f33-c36b-461d-9a2c-de8a3835cb06",
   "metadata": {},
   "outputs": [
    {
     "ename": "NameError",
     "evalue": "name 'q' is not defined",
     "output_type": "error",
     "traceback": [
      "\u001b[0;31m---------------------------------------------------------------------------\u001b[0m",
      "\u001b[0;31mNameError\u001b[0m                                 Traceback (most recent call last)",
      "\u001b[0;32m<ipython-input-50-e222fcdf3350>\u001b[0m in \u001b[0;36m<module>\u001b[0;34m\u001b[0m\n\u001b[0;32m----> 1\u001b[0;31m \u001b[0mq\u001b[0m\u001b[0;34m\u001b[0m\u001b[0;34m\u001b[0m\u001b[0m\n\u001b[0m",
      "\u001b[0;31mNameError\u001b[0m: name 'q' is not defined"
     ]
    }
   ],
   "source": [
    "q"
   ]
  },
  {
   "cell_type": "code",
   "execution_count": 35,
   "id": "ae580adf-ebae-4e16-9fc3-d50a46b113f4",
   "metadata": {},
   "outputs": [
    {
     "data": {
      "text/plain": [
       "tensor([[0.5385, 0.7071]])"
      ]
     },
     "execution_count": 35,
     "metadata": {},
     "output_type": "execute_result"
    }
   ],
   "source": [
    "len_vec2"
   ]
  },
  {
   "cell_type": "code",
   "execution_count": 31,
   "id": "6812cb46-028e-4f59-a391-1b365e284a57",
   "metadata": {},
   "outputs": [],
   "source": [
    "len_mat = torch.mm(torch.transpose(len_vec1, 0, 1), len_vec2)"
   ]
  },
  {
   "cell_type": "code",
   "execution_count": 48,
   "id": "927c6197-0edf-4036-8de6-a23d9b785ab0",
   "metadata": {},
   "outputs": [],
   "source": [
    "act_cos_sim_mat = dot_product_mat / len_mat"
   ]
  },
  {
   "cell_type": "code",
   "execution_count": 49,
   "id": "b786809b-441d-451d-9bb4-c896d5a08e3c",
   "metadata": {},
   "outputs": [
    {
     "data": {
      "text/plain": [
       "tensor([[0.8915, 0.8950],\n",
       "        [0.9282, 0.9371]])"
      ]
     },
     "execution_count": 49,
     "metadata": {},
     "output_type": "execute_result"
    }
   ],
   "source": [
    "act_cos_sim_mat"
   ]
  },
  {
   "cell_type": "code",
   "execution_count": 22,
   "id": "e37ce7b3-d669-458a-ac3c-82f5a3353e26",
   "metadata": {},
   "outputs": [
    {
     "data": {
      "text/plain": [
       "tensor([[0.2200, 0.2900],\n",
       "        [0.4300, 0.5700]])"
      ]
     },
     "execution_count": 22,
     "metadata": {},
     "output_type": "execute_result"
    }
   ],
   "source": [
    "dot_product_mat"
   ]
  },
  {
   "cell_type": "code",
   "execution_count": 25,
   "id": "c037a6a8-994c-4a59-a7e3-08eb0d4acb0e",
   "metadata": {},
   "outputs": [],
   "source": [
    "len_vec = torch.unsqueeze(torch.sqrt(torch.sum(act_ft_mat * act_ft_mat, dim=1)), dim=0)"
   ]
  },
  {
   "cell_type": "code",
   "execution_count": 26,
   "id": "90c569ae-101d-4847-9cfe-58a19a0783fc",
   "metadata": {},
   "outputs": [
    {
     "data": {
      "text/plain": [
       "tensor([[-0.0309,  0.5353, -0.5385],\n",
       "        [ 0.2461, -0.9991,  0.0146]])"
      ]
     },
     "execution_count": 26,
     "metadata": {},
     "output_type": "execute_result"
    }
   ],
   "source": [
    "act_ft_mat"
   ]
  },
  {
   "cell_type": "code",
   "execution_count": 27,
   "id": "19abde1f-18f4-41f8-a6bd-03a6b0b3c936",
   "metadata": {},
   "outputs": [
    {
     "data": {
      "text/plain": [
       "tensor([[0.7599, 1.0291]])"
      ]
     },
     "execution_count": 27,
     "metadata": {},
     "output_type": "execute_result"
    }
   ],
   "source": [
    "len_vec"
   ]
  },
  {
   "cell_type": "code",
   "execution_count": 29,
   "id": "a25c7aa9-bfe4-4adf-b4cd-24a3d70aa6d9",
   "metadata": {},
   "outputs": [
    {
     "data": {
      "text/plain": [
       "tensor([[0.5775, 0.7821],\n",
       "        [0.7821, 1.0591]])"
      ]
     },
     "execution_count": 29,
     "metadata": {},
     "output_type": "execute_result"
    }
   ],
   "source": [
    "len_mat"
   ]
  },
  {
   "cell_type": "code",
   "execution_count": 28,
   "id": "43a450b2-07ed-49b9-bc9b-624e747583e8",
   "metadata": {},
   "outputs": [],
   "source": [
    "len_mat = torch.mm(torch.transpose(len_vec, 0, 1), len_vec)\n",
    "act_cos_sim_mat = dot_product_mat / len_mat"
   ]
  },
  {
   "cell_type": "code",
   "execution_count": 23,
   "id": "c55ddfb4-31a1-4d07-b220-227106bc725a",
   "metadata": {},
   "outputs": [
    {
     "data": {
      "text/plain": [
       "tensor([[1.0000, 0.2879],\n",
       "        [0.2879, 1.0000]])"
      ]
     },
     "execution_count": 23,
     "metadata": {},
     "output_type": "execute_result"
    }
   ],
   "source": [
    "act_cos_sim_mat"
   ]
  },
  {
   "cell_type": "code",
   "execution_count": 136,
   "id": "8e79fc36-f5b0-4003-9851-2a075f1ac723",
   "metadata": {},
   "outputs": [],
   "source": [
    "def get_iou(bb1, bb2):\n",
    "\n",
    "    assert bb1[0] < bb1[2]\n",
    "    assert bb1[1] < bb1[3]\n",
    "    assert bb2[0] < bb2[2]\n",
    "    assert bb2[1] < bb2[3]\n",
    "\n",
    "    x_left = max(bb1[0], bb2[0])\n",
    "    y_top = max(bb1[1], bb2[1])\n",
    "    x_right = min(bb1[2], bb2[2])\n",
    "    y_bottom = min(bb1[3], bb2[3])\n",
    "\n",
    "    if x_right < x_left or y_bottom < y_top:\n",
    "        return torch.tensor(0.0)\n",
    "\n",
    "    intersection_area = (x_right - x_left) * (y_bottom - y_top)\n",
    "\n",
    "    bb1_area = (bb1[2] - bb1[0]) * (bb1[3] - bb1[1])\n",
    "    bb2_area = (bb2[2] - bb2[0]) * (bb2[3] - bb2[1])\n",
    "\n",
    "    iou = intersection_area / float(bb1_area + bb2_area - intersection_area)\n",
    "    assert iou >= 0.0\n",
    "    assert iou <= 1.0\n",
    "    return iou\n",
    "\n",
    "def get_inter_adj(bbox):\n",
    "    q = torch.zeros(len(bbox),len(bbox))\n",
    "    for x in range(len(bbox)):\n",
    "        for y in range(len(bbox)):\n",
    "            q[x][y]=(get_iou(bbox[x],bbox[y]))\n",
    "    return q\n",
    "\n",
    "def get_exter_adj(ft2,ft1):\n",
    "    dot_product_mat = torch.mm(ft1, torch.transpose(ft2, 0, 1))\n",
    "    len_vec1 = torch.unsqueeze(torch.sqrt(torch.sum(ft1 * ft1, dim=1)), dim=0)\n",
    "    len_vec2 = torch.unsqueeze(torch.sqrt(torch.sum(ft2 * ft2, dim=1)), dim=0)\n",
    "    len_mat = torch.mm(torch.transpose(len_vec1, 0, 1), len_vec2)\n",
    "    act_cos_sim_mat = dot_product_mat / len_mat\n",
    "    return act_cos_sim_mat\n",
    "\n",
    "def combine_inter_exter(adj_in1,adj_in2,adj_ext,ft1,ft2):\n",
    "    comb_feat = torch.cat((ft1,ft2))\n",
    "    adj1 = torch.cat((adj_in1,adj_ext),dim=-1)\n",
    "    adj2 = torch.cat((adj_ext.T,adj_in2),dim=-1)\n",
    "    comb_adj = torch.cat((adj1,adj2))\n",
    "    return comb_feat,comb_adj\n",
    "    \n",
    "def get_adj(pk1,pk2,ft1,ft2):\n",
    "    adj_in1 = get_inter_adj(pk1.bbox)\n",
    "    adj_in2 = get_inter_adj(pk2.bbox)\n",
    "    adj_ext = get_exter_adj(ft1,ft2)\n",
    "    return combine_inter_exter(adj_in1,adj_in2,adj_ext,ft1,ft2)"
   ]
  },
  {
   "cell_type": "code",
   "execution_count": 134,
   "id": "914428e4-2617-47df-93aa-fb99b2d5f1d3",
   "metadata": {},
   "outputs": [],
   "source": [
    "f1 = f1.view(10,-1)\n",
    "f2 = f2.view(10,-1)"
   ]
  },
  {
   "cell_type": "code",
   "execution_count": 146,
   "id": "b50fa627-ec88-4640-ae0f-6d6cf3d828b7",
   "metadata": {},
   "outputs": [],
   "source": [
    "fa,gr = get_adj(s1,s2,f1.cpu(),f2.cpu())"
   ]
  },
  {
   "cell_type": "code",
   "execution_count": 148,
   "id": "6fe6d5ed-6c4b-4e9e-aeeb-ccd3400ea301",
   "metadata": {},
   "outputs": [
    {
     "data": {
      "text/plain": [
       "torch.Size([20, 4096])"
      ]
     },
     "execution_count": 148,
     "metadata": {},
     "output_type": "execute_result"
    }
   ],
   "source": [
    "Act_GCN(fa,gr).shape"
   ]
  },
  {
   "cell_type": "code",
   "execution_count": 124,
   "id": "241438d4-0f68-4a74-8758-8991bca9ce72",
   "metadata": {},
   "outputs": [
    {
     "data": {
      "text/plain": [
       "tensor([[1.0000, 0.0193, 0.0000, 0.0034, 0.0175, 0.0000, 0.0168, 0.0231, 0.0000,\n",
       "         0.0000],\n",
       "        [0.0193, 1.0000, 0.0000, 0.0000, 0.4104, 0.0000, 0.0000, 0.0000, 0.0000,\n",
       "         0.0000],\n",
       "        [0.0000, 0.0000, 1.0000, 0.0030, 0.0000, 0.0000, 0.0941, 0.0000, 0.0000,\n",
       "         0.0000],\n",
       "        [0.0034, 0.0000, 0.0030, 1.0000, 0.0256, 0.0000, 0.1001, 0.1112, 0.0000,\n",
       "         0.0000],\n",
       "        [0.0175, 0.4104, 0.0000, 0.0256, 1.0000, 0.0000, 0.3998, 0.0000, 0.0000,\n",
       "         0.0000],\n",
       "        [0.0000, 0.0000, 0.0000, 0.0000, 0.0000, 1.0000, 0.0000, 0.0000, 0.0000,\n",
       "         0.0000],\n",
       "        [0.0168, 0.0000, 0.0941, 0.1001, 0.3998, 0.0000, 1.0000, 0.0000, 0.0000,\n",
       "         0.0000],\n",
       "        [0.0231, 0.0000, 0.0000, 0.1112, 0.0000, 0.0000, 0.0000, 1.0000, 0.0000,\n",
       "         0.0000],\n",
       "        [0.0000, 0.0000, 0.0000, 0.0000, 0.0000, 0.0000, 0.0000, 0.0000, 1.0000,\n",
       "         0.0000],\n",
       "        [0.0000, 0.0000, 0.0000, 0.0000, 0.0000, 0.0000, 0.0000, 0.0000, 0.0000,\n",
       "         1.0000]])"
      ]
     },
     "execution_count": 124,
     "metadata": {},
     "output_type": "execute_result"
    }
   ],
   "source": [
    "get_inter_adj(s1.bbox)"
   ]
  },
  {
   "cell_type": "code",
   "execution_count": 100,
   "id": "6eedc9dd-737e-4240-81d8-254ed4056059",
   "metadata": {},
   "outputs": [],
   "source": [
    "c = torch.randn(2,2)"
   ]
  },
  {
   "cell_type": "code",
   "execution_count": 77,
   "id": "703bc4a7-d4f9-4b23-bb23-1d4642f988c5",
   "metadata": {},
   "outputs": [],
   "source": [
    "f1 = torch.randn(2,10)\n",
    "f2 = torch.randn(2,10)"
   ]
  },
  {
   "cell_type": "code",
   "execution_count": 111,
   "id": "90e7335a-1e6e-481e-910b-a7f1570a6bc9",
   "metadata": {},
   "outputs": [],
   "source": [
    "ss2=torch.cat((b.T,c),dim=-1)"
   ]
  },
  {
   "cell_type": "code",
   "execution_count": 117,
   "id": "a22736b2-d518-4338-9296-179f12182631",
   "metadata": {},
   "outputs": [
    {
     "data": {
      "text/plain": [
       "tensor([[ 0.3337,  0.4896, -0.9952,  1.8668],\n",
       "        [-1.4833,  0.0500,  0.4906, -0.6282],\n",
       "        [-0.9952,  0.4906, -2.5912, -0.4105],\n",
       "        [ 1.8668, -0.6282,  1.3869,  1.1396]])"
      ]
     },
     "execution_count": 117,
     "metadata": {},
     "output_type": "execute_result"
    }
   ],
   "source": [
    "torch.cat((ss1,ss2))"
   ]
  },
  {
   "cell_type": "code",
   "execution_count": 116,
   "id": "bef68533-60f8-41bc-8631-fb4dfb99e80a",
   "metadata": {},
   "outputs": [
    {
     "data": {
      "text/plain": [
       "tensor([[ 0.3337,  0.4896, -0.9952,  1.8668],\n",
       "        [-1.4833,  0.0500,  0.4906, -0.6282],\n",
       "        [-0.9952,  0.4906, -2.5912, -0.4105],\n",
       "        [ 1.8668, -0.6282,  1.3869,  1.1396]])"
      ]
     },
     "execution_count": 116,
     "metadata": {},
     "output_type": "execute_result"
    }
   ],
   "source": [
    "torch.cat((ss1,ss2))"
   ]
  },
  {
   "cell_type": "code",
   "execution_count": 112,
   "id": "7b8e75a2-f60c-4958-ae24-0c7a8079c8e4",
   "metadata": {},
   "outputs": [],
   "source": [
    "ss1=torch.cat((a,b),dim=-1)"
   ]
  },
  {
   "cell_type": "code",
   "execution_count": 83,
   "id": "70a85af3-4fb5-460d-8de7-8802ba68198a",
   "metadata": {},
   "outputs": [
    {
     "data": {
      "text/plain": [
       "tensor([[ 0.4913, -1.0029,  0.7078,  0.5457,  0.3223, -0.7164, -0.2742,  1.6677,\n",
       "          0.7640, -0.5216],\n",
       "        [-1.4326, -0.6515, -1.2473, -1.3271, -0.9720,  0.6078, -0.6441, -0.8441,\n",
       "          0.8500, -0.6307],\n",
       "        [ 0.6994, -1.1279,  0.0699,  1.9401,  0.1651,  1.0271,  0.6422,  1.3064,\n",
       "         -0.7356,  0.1347],\n",
       "        [ 0.9037, -1.5101, -0.7847, -0.1570, -0.2062, -2.0969,  1.5392, -0.1068,\n",
       "          0.9357,  1.5767]])"
      ]
     },
     "execution_count": 83,
     "metadata": {},
     "output_type": "execute_result"
    }
   ],
   "source": [
    "torch.cat((f1,f2))"
   ]
  },
  {
   "cell_type": "code",
   "execution_count": 61,
   "id": "cbd2db22-a9f4-4d80-a7ef-ed8739c2345f",
   "metadata": {},
   "outputs": [],
   "source": [
    "for x in range(len(bb1)):\n",
    "    for y in range(len(bb1)):\n",
    "        q[x][y]=(get_iou(bb1[x],bb1[y]))"
   ]
  },
  {
   "cell_type": "code",
   "execution_count": 62,
   "id": "7a029cab-c046-4613-a09d-1ce1cd5d0c78",
   "metadata": {},
   "outputs": [],
   "source": [
    "inter_adj = (q>0.8).float()"
   ]
  },
  {
   "cell_type": "code",
   "execution_count": 63,
   "id": "8a831457-73c8-4312-b543-c61b62f7e737",
   "metadata": {},
   "outputs": [
    {
     "data": {
      "text/plain": [
       "tensor([[0.9338, 0.0196, 0.0000, 0.0198, 0.0238, 0.0000, 0.0000, 0.0000, 0.0000,\n",
       "         0.0054],\n",
       "        [0.0137, 0.8900, 0.0000, 0.4264, 0.0000, 0.0000, 0.0000, 0.0000, 0.0000,\n",
       "         0.0000],\n",
       "        [0.0000, 0.0000, 0.7409, 0.0000, 0.0469, 0.0000, 0.0000, 0.0000, 0.0000,\n",
       "         0.0000],\n",
       "        [0.0017, 0.0000, 0.0111, 0.0340, 0.1024, 0.0000, 0.8517, 0.0000, 0.0000,\n",
       "         0.0927],\n",
       "        [0.0086, 0.3866, 0.0200, 0.9433, 0.4114, 0.0000, 0.0193, 0.0000, 0.0000,\n",
       "         0.0000],\n",
       "        [0.0000, 0.0000, 0.0000, 0.0000, 0.0000, 0.9443, 0.0000, 0.0536, 0.0000,\n",
       "         0.0000],\n",
       "        [0.0123, 0.0017, 0.1184, 0.4108, 0.8957, 0.0000, 0.0880, 0.0000, 0.0000,\n",
       "         0.0000],\n",
       "        [0.0096, 0.0000, 0.0000, 0.0000, 0.0000, 0.0000, 0.1628, 0.0000, 0.0000,\n",
       "         0.8948],\n",
       "        [0.0000, 0.0000, 0.0000, 0.0000, 0.0000, 0.0000, 0.0000, 0.0000, 0.9903,\n",
       "         0.0000],\n",
       "        [0.0000, 0.0000, 0.0000, 0.0000, 0.0000, 0.0000, 0.0000, 0.0000, 0.0000,\n",
       "         0.0000]])"
      ]
     },
     "execution_count": 63,
     "metadata": {},
     "output_type": "execute_result"
    }
   ],
   "source": [
    "bb"
   ]
  },
  {
   "cell_type": "code",
   "execution_count": 64,
   "id": "8d49d98c-2adb-4c9b-a0ad-8e4c20ce841c",
   "metadata": {},
   "outputs": [
    {
     "data": {
      "text/plain": [
       "tensor(0.8957)"
      ]
     },
     "execution_count": 64,
     "metadata": {},
     "output_type": "execute_result"
    }
   ],
   "source": [
    "get_iou(s2.bbox[4],s1.bbox[6])"
   ]
  },
  {
   "cell_type": "code",
   "execution_count": 32,
   "id": "8d48ea00-e84c-452b-b220-9be197531c0f",
   "metadata": {},
   "outputs": [
    {
     "data": {
      "text/plain": [
       "tensor([[ 81.4424,  79.5536, 163.8394, 174.7446],\n",
       "        [ 31.1660,  78.4151,  84.2044, 130.6627],\n",
       "        [  0.0000,  60.6173,  26.6539, 207.9882],\n",
       "        [ 24.7506,  82.8568,  83.0347, 183.8021],\n",
       "        [ 17.7433, 130.7076,  86.8119, 196.3679],\n",
       "        [297.8424, 106.2747, 319.6998, 175.8862],\n",
       "        [ 24.0309, 176.0335, 212.2530, 234.1831],\n",
       "        [300.7946, 109.8217, 309.0585, 119.3500],\n",
       "        [265.5558, 192.0537, 319.6998, 237.8727],\n",
       "        [166.1317, 110.5448, 241.1927, 229.6832]])"
      ]
     },
     "execution_count": 32,
     "metadata": {},
     "output_type": "execute_result"
    }
   ],
   "source": [
    "s2.bbox"
   ]
  },
  {
   "cell_type": "code",
   "execution_count": 14,
   "id": "57203021-5e86-4468-b846-5f22f105c0a6",
   "metadata": {},
   "outputs": [
    {
     "data": {
      "text/plain": [
       "tensor([[1112.8232,  -16.3477,   71.7230,  ...,  -27.8375,   23.1429,\n",
       "            5.8889],\n",
       "        [ -16.3477,  998.6497,   12.2304,  ...,   -2.6103,    7.1390,\n",
       "           22.1201],\n",
       "        [  71.7230,   12.2304, 1022.4958,  ...,  -71.9383,  -48.4613,\n",
       "            8.4459],\n",
       "        ...,\n",
       "        [ -27.8375,   -2.6103,  -71.9383,  ..., 1015.7797,   26.0332,\n",
       "           39.0881],\n",
       "        [  23.1429,    7.1390,  -48.4613,  ...,   26.0332, 1054.2075,\n",
       "          -56.2536],\n",
       "        [   5.8889,   22.1202,    8.4459,  ...,   39.0881,  -56.2536,\n",
       "         1039.0332]])"
      ]
     },
     "execution_count": 14,
     "metadata": {},
     "output_type": "execute_result"
    }
   ],
   "source": [
    "dot_product_mat"
   ]
  },
  {
   "cell_type": "code",
   "execution_count": null,
   "id": "eb9b5f8c-bf08-4309-8657-1b5c89c18dcb",
   "metadata": {},
   "outputs": [],
   "source": [
    "        len_vec = torch.unsqueeze(torch.sqrt(torch.sum(act_ft_mat * act_ft_mat, dim=1)), dim=0)\n",
    "        len_mat = torch.mm(torch.transpose(len_vec, 0, 1), len_vec)\n",
    "        act_cos_sim_mat = dot_product_mat / len_mat"
   ]
  }
 ],
 "metadata": {
  "kernelspec": {
   "display_name": "Python 3",
   "language": "python",
   "name": "python3"
  },
  "language_info": {
   "codemirror_mode": {
    "name": "ipython",
    "version": 3
   },
   "file_extension": ".py",
   "mimetype": "text/x-python",
   "name": "python",
   "nbconvert_exporter": "python",
   "pygments_lexer": "ipython3",
   "version": "3.8.8"
  }
 },
 "nbformat": 4,
 "nbformat_minor": 5
}
